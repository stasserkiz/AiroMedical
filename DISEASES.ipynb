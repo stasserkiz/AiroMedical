{
  "cells": [
    {
      "cell_type": "markdown",
      "source": [
        "Завантаження бібліотек"
      ],
      "metadata": {
        "id": "YVmqDaleCC1r"
      },
      "id": "YVmqDaleCC1r"
    },
    {
      "cell_type": "code",
      "execution_count": null,
      "id": "645ffbde-230d-41f9-a3af-eb4e02bdc47f",
      "metadata": {
        "id": "645ffbde-230d-41f9-a3af-eb4e02bdc47f"
      },
      "outputs": [],
      "source": [
        "import re\n",
        "import nltk\n",
        "from nltk.corpus import stopwords"
      ]
    },
    {
      "cell_type": "markdown",
      "source": [
        "Завантаження txt файлу"
      ],
      "metadata": {
        "id": "y4uYmFQjCGv0"
      },
      "id": "y4uYmFQjCGv0"
    },
    {
      "cell_type": "code",
      "execution_count": null,
      "id": "e432e1be-3120-48b4-817c-db0fe84fb93f",
      "metadata": {
        "id": "e432e1be-3120-48b4-817c-db0fe84fb93f"
      },
      "outputs": [],
      "source": [
        "filename = \"test_task_data.txt\"\n",
        "with open(filename, \"r\") as f:\n",
        "    text = f.read()"
      ]
    },
    {
      "cell_type": "markdown",
      "source": [],
      "metadata": {
        "id": "tLayVxNoCAhn"
      },
      "id": "tLayVxNoCAhn"
    },
    {
      "cell_type": "markdown",
      "source": [
        "Видалення спец символів"
      ],
      "metadata": {
        "id": "d4vyqEoUCLbs"
      },
      "id": "d4vyqEoUCLbs"
    },
    {
      "cell_type": "code",
      "execution_count": null,
      "id": "12a3631d-00c0-439b-b9f7-e1467acbedfd",
      "metadata": {
        "id": "12a3631d-00c0-439b-b9f7-e1467acbedfd"
      },
      "outputs": [],
      "source": [
        "text = re.sub(r\"\\n\", \" \", text)\n",
        "text_2 = text"
      ]
    },
    {
      "cell_type": "markdown",
      "source": [
        "Видалення з тексту зайве"
      ],
      "metadata": {
        "id": "GLOIby8xCPZg"
      },
      "id": "GLOIby8xCPZg"
    },
    {
      "cell_type": "code",
      "execution_count": null,
      "id": "09a6fce9-f4f1-43d4-a56e-46355640f805",
      "metadata": {
        "id": "09a6fce9-f4f1-43d4-a56e-46355640f805"
      },
      "outputs": [],
      "source": [
        "def pre_procesing(text):\n",
        "    date_pattern1 = r'\\b\\d{1,2} (January|February|March|April|May|June|July|August|September|October|November|December), \\d{4}\\b'\n",
        "    date_pattern2 = r'\\b(January|February|March|April|May|June|July|August|September|October|November|December), \\d{4}\\b'\n",
        "    year_pattern = r'\\b\\d{4}\\b'\n",
        "    month_pattern = r'\\b(January|February|March|April|May|June|July|August|September|October|November|December)\\b'\n",
        "    punctuation_pattern = r'[^\\w\\s]'\n",
        "\n",
        "    cleaned_text = re.sub(date_pattern1, '', text)\n",
        "    cleaned_text = re.sub(date_pattern2, '', cleaned_text)\n",
        "    cleaned_text = re.sub(year_pattern, '', cleaned_text)\n",
        "    cleaned_text = re.sub(month_pattern, '', cleaned_text)\n",
        "    cleaned_text = re.sub(punctuation_pattern, '', cleaned_text)\n",
        "\n",
        "    words = cleaned_text.split()\n",
        "    lemmatizer = nltk.WordNetLemmatizer()\n",
        "    words = [lemmatizer.lemmatize(word) for word in words]\n",
        "\n",
        "    return \" \".join(words)"
      ]
    },
    {
      "cell_type": "code",
      "execution_count": null,
      "id": "1c3085cc-c2bd-4819-b7d1-65c8bd2fc5e8",
      "metadata": {
        "id": "1c3085cc-c2bd-4819-b7d1-65c8bd2fc5e8",
        "outputId": "235fa556-ef14-4c02-e38b-9d825b5e6ab5"
      },
      "outputs": [
        {
          "data": {
            "text/plain": [
              "'Earth beyond six of nine planetary boundary FiNuTyper Design and validation of an automated deep learningbased platform for simultaneous fiber and nucleus type analysis in human skeletal muscle COURAGEALS a randomized doubleblind phase 3 study designed to improve participant experience and increase the probability of success Economic evaluation of Motor Neuron Diseases a nationwide crosssectional analysis in Germany Peripheral Nerve Ultrasound for the Differentiation between ALS Inflammatory and Hereditary Polyneuropathies Guideline Motor neuron disease of the German Society of Neurology Deutsche Gesellschaft fГјr Neurologie Performance of serum neurofilament light chain in a wide spectrum of clinical course of amyotrophic lateral sclerosisa crosssectional multicenter study Multimodal layer modeling reveals invivo pathology in ALS Epilepsy in a mouse model of GNB1 encephalopathy arises from altered potassium GIRK channel signaling and is alleviated by a GIRK inhibitor Spectrum and frequency of genetic variant in sporadic amyotrophic lateral sclerosis COURAGEALS a randomized doubleblind phase 3 study designed to improve participant experience and increase the probability of success Improvement of muscle strength in specific muscular region in nusinersentreated adult patient with 5qspinal muscular atrophy An observational cohort study on pulmonary function in adult patient with 5qspinal muscular atrophy under nusinersen therapy Clinical and genetic feature of amyotrophic lateral sclerosis patient with C9orf72 mutation Association of the practice of contact sport with the development of amyotrophic lateral sclerosis Neurofilament light chain response during therapy with antisense oligonucleotide Tofersen in SOD1 вЂђrelated ALS вЂ treatment experience in clinical practice CDNF rescue motor neuron in model of amyotrophic lateral sclerosis by targeting endoplasmic reticulum stress Performance of serum neurofilament light chain in a wide spectrum of clinical course of amyotrophic lateral sclerosis вЂ a crossвЂђsectional multicenter study Cranial nerve involvement in patient with immunemediated neuropathy An observational blink reflex study Trends in the diagnostic delay and pathway for amyotrophic lateral sclerosis patient across different country ALSFRSRSE English public pdf ALSFRSRSE Deutsch public Dezember pdf HealthRelated Quality of Life in Spinal Muscular Atrophy Patients and Their CaregiversвЂA Prospective CrossSectional MultiCenter Analysis Improvements in Walking Distance during Nusinersen Treatment A Prospective 3year SMArtCARE Registry Study ALSFRSRSE an adapted annotated and selfexplanatory version of the revised amyotrophic lateral sclerosis functional rating scale Oral edaravone demonstrated a favorable safety profile in patient with amyotrophic lateral sclerosis after 48 week of treatment Modes of Pangean lake level cyclicity driven by astronomical climate pacing modulated by continental position and pCOFormula see text Towards the Validation of Executive Functioning Assessments A Clinical Study Altered Immunomodulatory Responses in the CX3CL1CX3CR1 Axis Mediated by hMSCs in an Early In Vitro SOD1G93A Model of ALS Improved upper limb function in nonambulant child with SMA type 2 and 3 during nusinersen treatment a prospective 3years SMArtCARE registry study Tauroursodeoxycholic acid in patient with amyotrophic lateral sclerosis The TUDCAALS trial protocol Feasibility of audiomotor training with the multisensory device ABBI Implementation in a child with hemiplegia and hemianopia Glial fibrillary acidic protein in cerebrospinal fluid of patient with spinal muscular atrophy Prevalence of AntiAdenoAssociated Virus Serotype 9 Antibodies in Adult Patients with Spinal Muscular Atrophy A SUMO4 initiator codon variant in amyotrophic lateral sclerosis reduces SUMO4 expression and alters stress granule dynamic Amyotrophic lateral sclerosis Remote digital assessment of amyotrophic lateral sclerosis functional rating scale вЂ a multicenter observational study Prevalence of AntiAAV9 Antibodies in Adult Patients with Spinal Muscular Atrophy Progress in spinal muscular atrophy research Motor Influence in Developing Auditory Spatial Cognition in Hemiplegic Children with and without Visual Field Disorder Amyotrophe Lateralsklerose und andere Motoneuronerkrankungen Pathophysiologie Diagnostik und Therapie Hypercoagulability in COVID19 from an unknown beginning to future therapy Analysis of routine blood parameter in patient with amyotrophic lateral sclerosis and evaluation of a possible correlation with disease progressionвЂa multicenter study Longterm outcome of transaxillary versus videoassisted first rib resection for neurogenic thoracic outlet syndrome Characteristics of pain and the burden it cause in patient with amyotrophic lateral sclerosis a longitudinal study Advance Care Planningfurther development of the patient advance directive What the specialist in internal medicine must know Alteration of Mitochondrial Integrity a Upstream Event in the Pathophysiology of SOD1ALS Author Correction Common and rare variant association analysis in amyotrophic lateral sclerosis identify 15 risk locus with distinct genetic architecture and neuronspecific biology Moderne Diagnosestellung der Amyotrophen Lateralsklerose вЂ ein Update der Diagnosekriterien An Automated Tongue Tracker for Quantifying Bulbar Function in ALS An Automated Tongue Tracker for Quantifying Bulbar Function in ALS Validity and reliability of the German multidimensional fatigue inventory in spinal muscular atrophy Clinical trial in pediatric ALS a TRICALS feasibility study PainRelated Coping Behavior in ALS The Interplay between Maladaptive Coping the PatientвЂs Affective State and Pain Safety and Effectiveness of Longterm Intravenous Administration of Edaravone for Treatment of Patients With Amyotrophic Lateral Sclerosis Major research advance in amyotrophic lateral sclerosis in OsmanovicGogol et al_Supplementary Materialpdf Heterozygous DHTKD1 Variants in Two European Cohorts of Amyotrophic Lateral Sclerosis Patients Executive function is inversely correlated with physical function the cognitive profile of adult Spinal Muscular Atrophy SMA Common and rare variant association analysis in amyotrophic lateral sclerosis identify 15 risk locus with distinct genetic architecture and neuronspecific biology Glial Fibrillary Acidic Protein in Cerebrospinal Fluid of NusinersenTreated Patients with Spinal Muscular Atrophy Methylation and Expression of Mutant FUS in Motor Neurons Differentiated From Induced Pluripotent Stem Cells From ALS Patients A selectable allinone CRISPR prime editing piggyBac transposon allows for highly efficient gene editing in human cell line Delayed Diagnosis and Diagnostic Pathway of ALS Patients in Portugal Where Can We Improve Safety and efficacy of oral levosimendan in people with amyotrophic lateral sclerosis the REFALS study a randomised doubleblind placebocontrolled phase 3 trial Safety and efficacy of oral levosimendan in people with amyotrophic lateral sclerosis the REFALS study a randomised doubleblind placebocontrolled phase 3 trial A MultiCenter Cohort Study on Characteristics of Pain Its Impact and Pharmacotherapeutic Management in Patients with ALS Brain activity is contingent on neuropsychological function in a functional magnetic resonance imaging study of verbal working memory in amyotrophic lateral sclerosis Characteristics of pain and the burden it cause in patient with amyotrophic lateral sclerosis вЂ a longitudinal study Increased chitotriosidase 1 concentration following nusinersen treatment in spinal muscular atrophy Motor neuron disease beginning with frontotemporal dementia clinical feature and progression Caregivers Burden of SchoolAged Children with Neurodevelopmental Disorders Implications for FamilyCentred Care Investigating Mesozoic Climate Trends and Sensitivities With a Large Ensemble of Climate Model Simulations Brain activity is contingent on neuropsychological function in an fMRI study of Verbal Working Memory in Amyotrophic Lateral Sclerosis Informal Caregiving in Amyotrophic Lateral Sclerosis ALS A High Caregiver Burden and Drastic Consequences on CaregiversвЂ Lives CaregiversвЂ divergent perspective on patientsвЂ wellbeing and attitude towards hastened death in Germany Poland and Sweden Impairment of mitochondrial oxidative phosphorylation in skin fibroblast of SALS and FALS patient is rescued by in vitro treatment with ROS scavenger Chitotriosidase a biomarker for early stage amyotrophic lateral sclerosis a multicenter study Treatment expectation and perception of therapy in adult patient with spinal muscular atrophy receiving nusinersen SupplTablesdocx FigureS3pdf Reconditioning the Neurogenic Niche of Adult Nonhuman Primates by Antisense OligonucleotideMediated Attenuation of TGFОІ Signaling An observational cohort study on impact dimension and outcome of perceived fatigue in adult 5qspinal muscular atrophy patient receiving nusinersen treatment Treatment satisfaction in 5qspinal muscular atrophy under nusinersen therapy Nusinersen WearingOff in Adult 5qSpinal Muscular Atrophy Patients A NationWide MultiCenter Study on the Quality of Life of ALS Patients in Germany Serum creatine kinase and creatinine in adult spinal muscular atrophy under nusinersen treatment Cerebrospinal Fluid Parameters in Antisense OligonucleotideTreated Adult 5qSpinal Muscular Atrophy Patients An early endothelial cellspecific requirement for Glut1 is revealed in Glut1 deficiency syndrome model mouse Chitotriosidase a biomarker for early stage amyotrophic lateral sclerosis a multicenter study View supplementary material Chitotriosidase a biomarker for early stage amyotrophic lateral sclerosis a multicenter study Clinically Applicable Quantitative Magnetic Resonance Morphologic Measurements of Grey Matter Changes in the Human Brain Anschriften der Herausgeber und Autoren FUS Is Not Mislocalized in Spinal Motor Neurons Derived From Human Induced Pluripotent Stem Cells of Main NonFUS ALS Subtypes Impairment of mitochondrial oxidative phosphorylation in skin fibroblast of SALS and FALS patient is rescued by in vitro treatment with ROS scavenger Longitudinal clinical and neuroanatomical correlate of memory impairment in motor neuron disease The genetic landscape of axonal neuropathy in the middleaged and elderly Focus on MME Cognitive Performance of Patients with Adult 5qSpinal Muscular Atrophy and with Amyotrophic Lateral Sclerosis Peripheral neuropathy in ALS phenotype association Cardiovascular comorbidities in amyotrophic lateral sclerosis Costs of illness in amyotrophic lateral sclerosis ALS A crosssectional survey in Germany Textural marker of ultrasonographic nerve alteration in amyotrophic lateral sclerosis Reduced GABAergic Neuron Excitability Altered Synaptic Connectivity and Seizures in a KCNT1 GainofFunction Mouse Model of Childhood Epilepsy Emotional Lability at Disease Onset Is an Independent Prognostic Factor of Faster Disease Progression in Amyotrophic Lateral Sclerosis ALS and fertility doe ALS affect number of child patient have SPG7 mutation in amyotrophic lateral sclerosis a genetic link to hereditary spastic paraplegia Effect of highcaloric nutrition on serum neurofilament light chain level in amyotrophic lateral sclerosis A Computational Study of Executive Dysfunction in Amyotrophic Lateral Sclerosis Treatment expectation and patientreported outcome of nusinersen therapy in adult spinal muscular atrophy Dyspnea a a FatiguePromoting Factor in ALS and the Role of Objective Indicators of Respiratory Impairment Analysis of shared common genetic risk between amyotrophic lateral sclerosis and epilepsy RNAiBased Gene Therapy Rescues Developmental and Epileptic Encephalopathy in a Genetic Mouse Model Erratum zu SARSCoV2COVID19 und neuromuskulГre ErkrankungenErratum to SARSCoV2COVID19 and neuromuscular disorder Bestandsaufnahme der DGN Deutsche Gesellschaft fГјr Neurologie Kommission Motoneuron und neuromuskulГre ErkrankungenAn overview of the DGN German Neurological Society Commission on Motor Neuron and Neuromuscular Diseases Impact of comorbidities and comedication on disease onset and progression in a large German ALS patient group Modelling and treating GRIN2A developmental and epileptic encephalopathy in mouse Spreading in ALS The relative impact of upper and lower motor neuron involvement Are cancer patient better off if they participate in clinical trial A mixed method study Osmanovic et al_JNeurol2020_Supplementary materialpdf Potential Preventive Strategies for Amyotrophic Lateral Sclerosis CDNF rescue motor neuron in three animal model of ALS by targeting ER stress Implementing patientcentered advance care planning in the outpatient setting during the COVID19 pandemic Altered excitatory transmission onto hippocampal interneurons in the IQSEC2 mouse model of Xlinked neurodevelopmental disease Nusinersen in adult with 5q spinal muscular atrophy a noninterventional multicentre observational cohort study Symptomatic pharmacotherapy in ALS data analysis from a platformbased medication management programme Amyotrophic Lateral Sclerosis and COVID19 вЂ Recommendations to patient and caregiver 7T MR neurographyultrasound fusion for peripheral nerve imaging Family history of neurodegenerative disorder in patient with amyotrophic lateral sclerosis populationbased caseвЂcontrol study Dyspnea a a FatiguePromoting Factor in ALS and the Role of Objective Indicators of Respiratory Impairment Sonographic and 3TMRIbased evaluation of the tongue in ALS The upper cervical spinal cord in ALS assessed by crosssectional and longitudinal 3T MRI Knocking out C9ORF72 Exacerbates Axonal Trafficking Defects Associated with Hexanucleotide Repeat Expansion and Reduces Levels of Heat Shock Proteins The upper cervical spinal cord in ALS assessed by crosssectional and longitudinal 3T MRI Advance Care Planningfurther development of the patient advance directive What the anesthetist must know Arfgef1 haploinsufficiency in mouse alters neuronal endosome composition and decrease membrane surface postsynaptic GABAA receptor Neurofilament light chain in serum of adolescent and adult SMA patient under treatment with nusinersen Sonographic and 3TMRIbased evaluation of the tongue in ALS Reply Adultonset distal spinal muscular atrophy a new phenotype associated with KIF5A mutation Effect of HighCaloric Nutrition on Survival in Amyotrophic Lateral Sclerosis The DyspneaALSScale DALS15 optimizes individual treatment in patient with amyotrophic lateral sclerosis ALS suffering from dyspnea Transcriptomewide Profiling of Cerebral Cavernous Malformations Patients Reveal Important Long noncoding RNA molecular signature IncobotulinumtoxinA for hypersalivation in patient with amyotrophic lateral sclerosis an openlabel singlecentre study DECREASE OF BRAIN REGIONAL CORTICAL THICKNESS IN AMYOTROPHIC LATERAL SCLEROSIS PATIENTS Altered calcium dynamic and glutamate receptor property in iPSCderived motor neuron from ALS patient with C9orf72 FUS SOD1 or TDP43 mutation Isoformselective a opposed to complete depletion of fibroblast growth factor 2 FGF2 ha no major impact on survival and gene expression in SOD1G93A amyotrophic lateral sclerosis mouse Routine Cerebrospinal Fluid Cytology Reveals Unique Inclusions in Macrophages During Treatment With Nusinersen Dyspnea in amyotrophic lateral sclerosis The DyspneaALSScale DALS15 essentially contributes to the diagnosis of respiratory impairment The DyspneaALSScale DALS15 optimizes individual treatment in patient with amyotrophic lateral sclerosis ALS suffering from dyspnea Nusinersen bei spinaler Muskelatrophie Klinische Anwendbarkeit bei erwachsenen Patienten mit SMA Typ II Expression of the axonguidance protein receptor Neuropilin 1 is increased in the spinal cord and decreased in muscle of a mouse model of amyotrophic lateral sclerosis Prognostic factor in ALS a comparison between Germany and China Neurochemical marker in CSF of adolescent and adult SMA patient undergoing nusinersen treatment Characterizing the multiple role of FGF2 in SOD1G93A ALS mouse in vivo and in vitro Therapie mit Edaravone bei der Amyotrophen Lateralsklerose Eine hochkalorische fettreiche NahrungsergГnzung fГјr ALSPatienten Ergebnisse einer multizentrischen randomisierten placebokontrollierten Studie im Deutschen Netzwerk fГјr Motoneuronerkrankungen LIPCALALSStudie Untersuchung von NfL und pNfH im Liquor von Jugendlichen und Erwachsenen mit spinaler Muskelatrophie SMA Typ 2 und 3 unter der Therapie mit Nusinersen Toward in vivo determination of peripheral nervous system immune activity in amyotrophic lateral sclerosis Analysis of the therapeutic potential of different administration route and frequency of human mesenchymal stromal cell in the SOD1G93A mouse model of amyotrophic lateral sclerosis Influence of Environment and Lifestyle on Incidence and Progress of Amyotrophic Lateral Sclerosis in A German ALS Population ROCKALS Protocol for a Randomized PlaceboControlled DoubleBlind Phase IIa Trial of Safety Tolerability and Efficacy of the Rho Kinase ROCK Inhibitor Fasudil in Amyotrophic Lateral Sclerosis Hybrid Sterility with Meiotic Metaphase Arrest in Intersubspecific Mouse Crosses ROCKALS Protocol for a Randomized PlaceboControlled DoubleBlind Phase IIa Trial of Safety Tolerability and Efficacy of the Rho Kinase ROCK Inhibitor Fasudil in Amyotrophic Lateral Sclerosis Towards in vivo determination of peripheral nervous system immune activity in ALS A phase III trial of tirasemtiv a a potential treatment for amyotrophic lateral sclerosis When Nursing Care and Clinical Trials Coincide A Qualitative Study of the Views of Nordic Oncology and Hematology Nurses on Ethical Work Challenges Dysregulation of a novel miRTBCBTUBA4A pathway in sporadic and familial ALS IncobotulinumtoxinA for hypersalivation in patient with amyotrophic lateral sclerosis Significance of CSF NfL and tau in ALS Dyspnea in Amyotrophic Lateral Sclerosis RaschBased Development and Validation of a PatientReported Outcome DALS15 Projected change in persistent extreme summer weather event The role of quasiresonant amplification Characterizing the multiple role of FGF2 in SOD1 G93A ALS mouse in vivo and in vitro KEFALAKES et al Quantitative Susceptibility MRI to Detect Brain Iron in Amyotrophic Lateral Sclerosis Alberta wildfire Apt contribution from anomalous planetary wave dynamic Association between attentiondeficithyperactivity disorder ADHD and amyotrophic lateral sclerosis ALS Provision of assistive technology device among people with ALS in Germany a platformcase management approach Comprehensive analysis of the mutation spectrum in 301 German ALS family Safety and efficacy of rasagiline a an addon therapy to riluzole in patient with amyotrophic lateral sclerosis a randomised doubleblind parallelgroup placebocontrolled phase 2 trial Implementing Motor Unit Number Index MUNIX in a large clinical trial Real world experience from 27 centre P38 Longitudinal sonographic alteration of the peripheral nerve structure in ALS P37 Various sonographic grayscale measure of the peripheral nerve differ between ALS and ALS disease mimic Global Hippocampal Volume Reductions and Local CA1 Shape Deformations in Amyotrophic Lateral Sclerosis Therapeutic decision in ALS patient crosscultural difference and clinical implication Agedependent neurodegeneration and organelle transport deficiency in mutant TDP43 patientderived neuron are independent of TDP43 aggregation Differential involvement of forearm muscle in ALS doe not relate to sonographic structural nerve alteration The metabolic and endocrine characteristic in spinal and bulbar muscular atrophy Prognosis for patient with amyotrophic lateral sclerosis development and validation of a personalised prediction model Supplementary Data Percutaneous endoscopic gastrostomy with and without jejunal extension in patient with amyotrophic lateral sclerosis Hotspot KIF5A mutation cause familial ALS Peripheral nerve atrophy together with higher cerebrospinal fluid progranulin indicate axonal damage in amyotrophic lateral sclerosis Impaired DNA damage response signaling by FUSNLS mutation lead to neurodegeneration and FUS aggregate formation Multicenter evaluation of neurofilaments in early symptom onset amyotrophic lateral sclerosis Supplementary Material The TGFОІ System As a Potential Pathogenic Player in Disease Modulation of Amyotrophic Lateral Sclerosis'"
            ]
          },
          "execution_count": 5,
          "metadata": {},
          "output_type": "execute_result"
        }
      ],
      "source": [
        "text = pre_procesing(text)\n",
        "text"
      ]
    },
    {
      "cell_type": "markdown",
      "source": [
        "Підключаємо модуль з медичними даними"
      ],
      "metadata": {
        "id": "PKxBzKgHCVr-"
      },
      "id": "PKxBzKgHCVr-"
    },
    {
      "cell_type": "code",
      "execution_count": null,
      "id": "0f8bae5a-05cc-4fcf-a610-723d311781a0",
      "metadata": {
        "id": "0f8bae5a-05cc-4fcf-a610-723d311781a0",
        "outputId": "102bd9f3-2e43-4964-df35-19d38fe2fecb"
      },
      "outputs": [
        {
          "name": "stderr",
          "output_type": "stream",
          "text": [
            "C:\\Users\\Стас\\AppData\\Roaming\\Python\\Python311\\site-packages\\spacy\\language.py:2195: FutureWarning: Possible set union at position 6328\n",
            "  deserializers[\"tokenizer\"] = lambda p: self.tokenizer.from_disk(  # type: ignore[union-attr]\n"
          ]
        }
      ],
      "source": [
        "import spacy\n",
        "\n",
        "nlp = spacy.load(\"en_ner_bc5cdr_md\")"
      ]
    },
    {
      "cell_type": "code",
      "execution_count": null,
      "id": "72d74637-549e-4354-bc35-7c159769839a",
      "metadata": {
        "id": "72d74637-549e-4354-bc35-7c159769839a"
      },
      "outputs": [],
      "source": [
        "doc = nlp(text)"
      ]
    },
    {
      "cell_type": "markdown",
      "source": [
        "Вивід усіх медичних сутностей"
      ],
      "metadata": {
        "id": "XPOi7HOuCfoa"
      },
      "id": "XPOi7HOuCfoa"
    },
    {
      "cell_type": "code",
      "execution_count": null,
      "id": "5e5572bb-12b4-4403-ac8d-699ddc55b439",
      "metadata": {
        "id": "5e5572bb-12b4-4403-ac8d-699ddc55b439",
        "outputId": "0d14ae35-a0fe-491c-bde0-9c1e94d22bea"
      },
      "outputs": [
        {
          "name": "stdout",
          "output_type": "stream",
          "text": [
            "human skeletal muscle COURAGEALS DISEASE\n",
            "Hereditary Polyneuropathies Guideline Motor neuron disease DISEASE\n",
            "ALS Epilepsy DISEASE\n",
            "encephalopathy DISEASE\n",
            "potassium CHEMICAL\n",
            "amyotrophic lateral sclerosis COURAGEALS DISEASE\n",
            "muscular atrophy DISEASE\n",
            "muscular atrophy DISEASE\n",
            "nusinersen CHEMICAL\n",
            "amyotrophic lateral sclerosis DISEASE\n",
            "amyotrophic lateral sclerosis Neurofilament light chain response DISEASE\n",
            "oligonucleotide CHEMICAL\n",
            "вЂђrelated ALS DISEASE\n",
            "amyotrophic lateral sclerosis DISEASE\n",
            "amyotrophic lateral sclerosis DISEASE\n",
            "immunemediated neuropathy DISEASE\n",
            "amyotrophic lateral sclerosis DISEASE\n",
            "Muscular Atrophy DISEASE\n",
            "amyotrophic lateral sclerosis DISEASE\n",
            "edaravone CHEMICAL\n",
            "amyotrophic lateral sclerosis DISEASE\n",
            "ALS DISEASE\n",
            "nusinersen CHEMICAL\n",
            "Tauroursodeoxycholic acid CHEMICAL\n",
            "amyotrophic lateral sclerosis DISEASE\n",
            "hemiplegia DISEASE\n",
            "hemianopia DISEASE\n",
            "muscular atrophy DISEASE\n",
            "Spinal Muscular Atrophy A SUMO4 initiator codon variant DISEASE\n",
            "amyotrophic lateral sclerosis DISEASE\n",
            "lateral sclerosis DISEASE\n",
            "amyotrophic lateral sclerosis DISEASE\n",
            "Spinal Muscular Atrophy DISEASE\n",
            "muscular atrophy DISEASE\n",
            "Hemiplegic DISEASE\n",
            "Visual Field Disorder Amyotrophe Lateralsklerose und andere DISEASE\n",
            "und Therapie Hypercoagulability DISEASE\n",
            "amyotrophic lateral sclerosis DISEASE\n",
            "neurogenic thoracic outlet syndrome DISEASE\n",
            "pain DISEASE\n",
            "amyotrophic lateral sclerosis a DISEASE\n",
            "SOD1ALS CHEMICAL\n",
            "amyotrophic lateral sclerosis DISEASE\n",
            "fatigue DISEASE\n",
            "muscular atrophy DISEASE\n",
            "ALS DISEASE\n",
            "TRICALS CHEMICAL\n",
            "ALS DISEASE\n",
            "Pain DISEASE\n",
            "Edaravone CHEMICAL\n",
            "amyotrophic lateral sclerosis DISEASE\n",
            "Materialpdf DISEASE\n",
            "Muscular Atrophy SMA DISEASE\n",
            "amyotrophic lateral sclerosis DISEASE\n",
            "Spinal Muscular Atrophy DISEASE\n",
            "ALS DISEASE\n",
            "ALS DISEASE\n",
            "levosimendan CHEMICAL\n",
            "amyotrophic lateral sclerosis DISEASE\n",
            "levosimendan CHEMICAL\n",
            "amyotrophic lateral sclerosis DISEASE\n",
            "Pain DISEASE\n",
            "ALS DISEASE\n",
            "verbal working memory DISEASE\n",
            "amyotrophic lateral sclerosis DISEASE\n",
            "pain DISEASE\n",
            "amyotrophic lateral sclerosis DISEASE\n",
            "nusinersen CHEMICAL\n",
            "muscular atrophy DISEASE\n",
            "dementia DISEASE\n",
            "Neurodevelopmental Disorders DISEASE\n",
            "Lateral Sclerosis ALS A DISEASE\n",
            "death DISEASE\n",
            "SALS DISEASE\n",
            "FALS DISEASE\n",
            "ROS CHEMICAL\n",
            "amyotrophic lateral sclerosis DISEASE\n",
            "muscular atrophy DISEASE\n",
            "fatigue DISEASE\n",
            "muscular atrophy DISEASE\n",
            "nusinersen CHEMICAL\n",
            "muscular atrophy DISEASE\n",
            "nusinersen CHEMICAL\n",
            "Muscular Atrophy DISEASE\n",
            "ALS DISEASE\n",
            "creatine CHEMICAL\n",
            "creatinine CHEMICAL\n",
            "muscular atrophy DISEASE\n",
            "nusinersen CHEMICAL\n",
            "Muscular Atrophy DISEASE\n",
            "amyotrophic lateral sclerosis DISEASE\n",
            "amyotrophic lateral sclerosis DISEASE\n",
            "Anschriften der Herausgeber und Autoren FUS DISEASE\n",
            "ALS DISEASE\n",
            "SALS DISEASE\n",
            "FALS DISEASE\n",
            "ROS CHEMICAL\n",
            "memory impairment DISEASE\n",
            "axonal neuropathy DISEASE\n",
            "Muscular Atrophy DISEASE\n",
            "Lateral Sclerosis Peripheral neuropathy DISEASE\n",
            "ALS DISEASE\n",
            "Cardiovascular comorbidities DISEASE\n",
            "amyotrophic lateral sclerosis DISEASE\n",
            "illness DISEASE\n",
            "amyotrophic lateral sclerosis ALS A DISEASE\n",
            "amyotrophic lateral sclerosis DISEASE\n",
            "Seizures DISEASE\n",
            "Epilepsy DISEASE\n",
            "Lateral Sclerosis ALS DISEASE\n",
            "ALS DISEASE\n",
            "amyotrophic lateral sclerosis DISEASE\n",
            "hereditary spastic paraplegia DISEASE\n",
            "amyotrophic lateral sclerosis A DISEASE\n",
            "nusinersen CHEMICAL\n",
            "muscular atrophy DISEASE\n",
            "Dyspnea DISEASE\n",
            "ALS DISEASE\n",
            "amyotrophic lateral sclerosis DISEASE\n",
            "epilepsy RNAiBased DISEASE\n",
            "Epileptic Encephalopathy DISEASE\n",
            "neuromuscular disorder DISEASE\n",
            "comedication CHEMICAL\n",
            "epileptic encephalopathy DISEASE\n",
            "ALS DISEASE\n",
            "cancer DISEASE\n",
            "materialpdf DISEASE\n",
            "Lateral Sclerosis CDNF rescue motor neuron DISEASE\n",
            "ALS DISEASE\n",
            "Xlinked neurodevelopmental disease DISEASE\n",
            "Nusinersen CHEMICAL\n",
            "muscular atrophy DISEASE\n",
            "neurodegenerative disorder DISEASE\n",
            "amyotrophic lateral sclerosis DISEASE\n",
            "caseвЂcontrol CHEMICAL\n",
            "Dyspnea DISEASE\n",
            "ALS DISEASE\n",
            "Respiratory Impairment Sonographic and 3TMRIbased evaluation of the tongue DISEASE\n",
            "ALS DISEASE\n",
            "ALS DISEASE\n",
            "Shock DISEASE\n",
            "ALS DISEASE\n",
            "Arfgef1 CHEMICAL\n",
            "nusinersen CHEMICAL\n",
            "ALS DISEASE\n",
            "Adultonset CHEMICAL\n",
            "muscular atrophy DISEASE\n",
            "DyspneaALSScale DALS15 CHEMICAL\n",
            "amyotrophic lateral sclerosis ALS DISEASE\n",
            "dyspnea Transcriptomewide DISEASE\n",
            "Cerebral Cavernous Malformations DISEASE\n",
            "hypersalivation DISEASE\n",
            "amyotrophic lateral sclerosis DISEASE\n",
            "calcium CHEMICAL\n",
            "glutamate CHEMICAL\n",
            "amyotrophic lateral sclerosis DISEASE\n",
            "Dyspnea DISEASE\n",
            "amyotrophic lateral sclerosis DISEASE\n",
            "DyspneaALSScale DALS15 CHEMICAL\n",
            "respiratory impairment DISEASE\n",
            "DyspneaALSScale DALS15 CHEMICAL\n",
            "amyotrophic lateral sclerosis ALS DISEASE\n",
            "dyspnea DISEASE\n",
            "amyotrophic lateral sclerosis DISEASE\n",
            "ALS DISEASE\n",
            "nusinersen CHEMICAL\n",
            "ALS DISEASE\n",
            "Edaravone CHEMICAL\n",
            "der DISEASE\n",
            "Lateralsklerose Eine hochkalorische fettreiche DISEASE\n",
            "Nusinersen CHEMICAL\n",
            "peripheral nervous system immune activity DISEASE\n",
            "amyotrophic lateral sclerosis DISEASE\n",
            "amyotrophic lateral sclerosis DISEASE\n",
            "Fasudil CHEMICAL\n",
            "Lateral Sclerosis DISEASE\n",
            "Fasudil CHEMICAL\n",
            "peripheral nervous system immune activity DISEASE\n",
            "ALS A CHEMICAL\n",
            "amyotrophic lateral sclerosis DISEASE\n",
            "hypersalivation DISEASE\n",
            "amyotrophic lateral sclerosis DISEASE\n",
            "ALS Dyspnea DISEASE\n",
            "ALS DISEASE\n",
            "Iron CHEMICAL\n",
            "Apt CHEMICAL\n",
            "attentiondeficithyperactivity disorder DISEASE\n",
            "ADHD DISEASE\n",
            "amyotrophic lateral sclerosis ALS DISEASE\n",
            "ALS DISEASE\n",
            "rasagiline CHEMICAL\n",
            "riluzole CHEMICAL\n",
            "amyotrophic lateral sclerosis DISEASE\n",
            "ALS DISEASE\n",
            "ALS disease DISEASE\n",
            "TDP43 aggregation DISEASE\n",
            "ALS DISEASE\n",
            "muscular atrophy DISEASE\n",
            "amyotrophic lateral sclerosis DISEASE\n",
            "amyotrophic lateral sclerosis DISEASE\n",
            "Peripheral nerve atrophy DISEASE\n",
            "progranulin CHEMICAL\n",
            "axonal damage DISEASE\n",
            "amyotrophic lateral sclerosis Impaired DNA damage DISEASE\n",
            "neurodegeneration DISEASE\n",
            "amyotrophic lateral sclerosis Supplementary Material The TGFОІ System As a DISEASE\n",
            "Lateral Sclerosis DISEASE\n"
          ]
        }
      ],
      "source": [
        "for ent in doc.ents:\n",
        "    print(ent.text, ent.label_)"
      ]
    },
    {
      "cell_type": "markdown",
      "source": [
        "Перевіряємо, які сутності відносяться до хвороб та записуємо в новий масив"
      ],
      "metadata": {
        "id": "62WkMXcrCmkA"
      },
      "id": "62WkMXcrCmkA"
    },
    {
      "cell_type": "code",
      "execution_count": null,
      "id": "a8a8e42a-061c-466e-a6d4-56360f955dc1",
      "metadata": {
        "id": "a8a8e42a-061c-466e-a6d4-56360f955dc1"
      },
      "outputs": [],
      "source": [
        "disease = []\n",
        "for ent in doc.ents:\n",
        "    if ent.label_ == \"DISEASE\":\n",
        "        disease.append(ent.text)"
      ]
    },
    {
      "cell_type": "markdown",
      "source": [
        "Переводимо в нижній регістр , забираємо дублікати та сортуємо"
      ],
      "metadata": {
        "id": "JMcrYo3HCuQJ"
      },
      "id": "JMcrYo3HCuQJ"
    },
    {
      "cell_type": "code",
      "execution_count": null,
      "id": "2cc418c2-e0b5-48a7-87a6-643a14d89a3c",
      "metadata": {
        "id": "2cc418c2-e0b5-48a7-87a6-643a14d89a3c"
      },
      "outputs": [],
      "source": [
        "def process_list(word_list):\n",
        "    word_list = [word.strip() for word in word_list]\n",
        "    lower_words = [word.lower() for word in word_list]\n",
        "    unique_words = list(set(lower_words))\n",
        "    sorted_words = sorted(unique_words)\n",
        "\n",
        "    return sorted_words"
      ]
    },
    {
      "cell_type": "code",
      "execution_count": null,
      "id": "768f9ab0-d338-4098-98b2-159cb6c0534a",
      "metadata": {
        "id": "768f9ab0-d338-4098-98b2-159cb6c0534a",
        "outputId": "ffa3cc04-6d62-495f-de5b-87b0b482e42b"
      },
      "outputs": [
        {
          "data": {
            "text/plain": [
              "['adhd',\n",
              " 'als',\n",
              " 'als disease',\n",
              " 'als dyspnea',\n",
              " 'als epilepsy',\n",
              " 'amyotrophic lateral sclerosis',\n",
              " 'amyotrophic lateral sclerosis a',\n",
              " 'amyotrophic lateral sclerosis als',\n",
              " 'amyotrophic lateral sclerosis als a',\n",
              " 'amyotrophic lateral sclerosis courageals',\n",
              " 'amyotrophic lateral sclerosis impaired dna damage',\n",
              " 'amyotrophic lateral sclerosis neurofilament light chain response',\n",
              " 'amyotrophic lateral sclerosis supplementary material the tgfоі system as a',\n",
              " 'anschriften der herausgeber und autoren fus',\n",
              " 'attentiondeficithyperactivity disorder',\n",
              " 'axonal damage',\n",
              " 'axonal neuropathy',\n",
              " 'cancer',\n",
              " 'cardiovascular comorbidities',\n",
              " 'cerebral cavernous malformations',\n",
              " 'death',\n",
              " 'dementia',\n",
              " 'der',\n",
              " 'dyspnea',\n",
              " 'dyspnea transcriptomewide',\n",
              " 'encephalopathy',\n",
              " 'epilepsy',\n",
              " 'epilepsy rnaibased',\n",
              " 'epileptic encephalopathy',\n",
              " 'fals',\n",
              " 'fatigue',\n",
              " 'hemianopia',\n",
              " 'hemiplegia',\n",
              " 'hemiplegic',\n",
              " 'hereditary polyneuropathies guideline motor neuron disease',\n",
              " 'hereditary spastic paraplegia',\n",
              " 'human skeletal muscle courageals',\n",
              " 'hypersalivation',\n",
              " 'illness',\n",
              " 'immunemediated neuropathy',\n",
              " 'lateral sclerosis',\n",
              " 'lateral sclerosis als',\n",
              " 'lateral sclerosis als a',\n",
              " 'lateral sclerosis cdnf rescue motor neuron',\n",
              " 'lateral sclerosis peripheral neuropathy',\n",
              " 'lateralsklerose eine hochkalorische fettreiche',\n",
              " 'materialpdf',\n",
              " 'memory impairment',\n",
              " 'muscular atrophy',\n",
              " 'muscular atrophy sma',\n",
              " 'neurodegeneration',\n",
              " 'neurodegenerative disorder',\n",
              " 'neurodevelopmental disorders',\n",
              " 'neurogenic thoracic outlet syndrome',\n",
              " 'neuromuscular disorder',\n",
              " 'pain',\n",
              " 'peripheral nerve atrophy',\n",
              " 'peripheral nervous system immune activity',\n",
              " 'respiratory impairment',\n",
              " 'respiratory impairment sonographic and 3tmribased evaluation of the tongue',\n",
              " 'sals',\n",
              " 'seizures',\n",
              " 'shock',\n",
              " 'spinal muscular atrophy',\n",
              " 'spinal muscular atrophy a sumo4 initiator codon variant',\n",
              " 'tdp43 aggregation',\n",
              " 'und therapie hypercoagulability',\n",
              " 'verbal working memory',\n",
              " 'visual field disorder amyotrophe lateralsklerose und andere',\n",
              " 'xlinked neurodevelopmental disease',\n",
              " 'вђђrelated als']"
            ]
          },
          "execution_count": 16,
          "metadata": {},
          "output_type": "execute_result"
        }
      ],
      "source": [
        "disease = process_list(disease)\n",
        "disease"
      ]
    },
    {
      "cell_type": "markdown",
      "source": [
        "Записуємо усі медичні терміни в новий масив"
      ],
      "metadata": {
        "id": "4HcSp-EDC32S"
      },
      "id": "4HcSp-EDC32S"
    },
    {
      "cell_type": "code",
      "execution_count": null,
      "id": "c4c64920-3d4a-4012-9244-35dc30d59126",
      "metadata": {
        "id": "c4c64920-3d4a-4012-9244-35dc30d59126"
      },
      "outputs": [],
      "source": [
        "medical_keywords = []\n",
        "for ent in doc.ents:\n",
        "    if ent.label_ in ['DISEASE', 'CHEMICAL', 'ORGAN', 'MEDICAL_SPECIALIZATION']:\n",
        "        medical_keywords.append(ent.text)"
      ]
    },
    {
      "cell_type": "code",
      "execution_count": null,
      "id": "314ad4b4-0f99-4763-9baa-29c106b52c3a",
      "metadata": {
        "id": "314ad4b4-0f99-4763-9baa-29c106b52c3a",
        "outputId": "9e669998-aac5-4cc1-97b1-14f970d6c0d1"
      },
      "outputs": [
        {
          "data": {
            "text/plain": [
              "['adhd',\n",
              " 'adultonset',\n",
              " 'als',\n",
              " 'als a',\n",
              " 'als disease',\n",
              " 'als dyspnea',\n",
              " 'als epilepsy',\n",
              " 'amyotrophic lateral sclerosis',\n",
              " 'amyotrophic lateral sclerosis a',\n",
              " 'amyotrophic lateral sclerosis als',\n",
              " 'amyotrophic lateral sclerosis als a',\n",
              " 'amyotrophic lateral sclerosis courageals',\n",
              " 'amyotrophic lateral sclerosis impaired dna damage',\n",
              " 'amyotrophic lateral sclerosis neurofilament light chain response',\n",
              " 'amyotrophic lateral sclerosis supplementary material the tgfоі system as a',\n",
              " 'anschriften der herausgeber und autoren fus',\n",
              " 'apt',\n",
              " 'arfgef1',\n",
              " 'attentiondeficithyperactivity disorder',\n",
              " 'axonal damage',\n",
              " 'axonal neuropathy',\n",
              " 'calcium',\n",
              " 'cancer',\n",
              " 'cardiovascular comorbidities',\n",
              " 'caseвђcontrol',\n",
              " 'cerebral cavernous malformations',\n",
              " 'comedication',\n",
              " 'creatine',\n",
              " 'creatinine',\n",
              " 'death',\n",
              " 'dementia',\n",
              " 'der',\n",
              " 'dyspnea',\n",
              " 'dyspnea transcriptomewide',\n",
              " 'dyspneaalsscale dals15',\n",
              " 'edaravone',\n",
              " 'encephalopathy',\n",
              " 'epilepsy',\n",
              " 'epilepsy rnaibased',\n",
              " 'epileptic encephalopathy',\n",
              " 'fals',\n",
              " 'fasudil',\n",
              " 'fatigue',\n",
              " 'glutamate',\n",
              " 'hemianopia',\n",
              " 'hemiplegia',\n",
              " 'hemiplegic',\n",
              " 'hereditary polyneuropathies guideline motor neuron disease',\n",
              " 'hereditary spastic paraplegia',\n",
              " 'human skeletal muscle courageals',\n",
              " 'hypersalivation',\n",
              " 'illness',\n",
              " 'immunemediated neuropathy',\n",
              " 'iron',\n",
              " 'lateral sclerosis',\n",
              " 'lateral sclerosis als',\n",
              " 'lateral sclerosis als a',\n",
              " 'lateral sclerosis cdnf rescue motor neuron',\n",
              " 'lateral sclerosis peripheral neuropathy',\n",
              " 'lateralsklerose eine hochkalorische fettreiche',\n",
              " 'levosimendan',\n",
              " 'materialpdf',\n",
              " 'memory impairment',\n",
              " 'muscular atrophy',\n",
              " 'muscular atrophy sma',\n",
              " 'neurodegeneration',\n",
              " 'neurodegenerative disorder',\n",
              " 'neurodevelopmental disorders',\n",
              " 'neurogenic thoracic outlet syndrome',\n",
              " 'neuromuscular disorder',\n",
              " 'nusinersen',\n",
              " 'oligonucleotide',\n",
              " 'pain',\n",
              " 'peripheral nerve atrophy',\n",
              " 'peripheral nervous system immune activity',\n",
              " 'potassium',\n",
              " 'progranulin',\n",
              " 'rasagiline',\n",
              " 'respiratory impairment',\n",
              " 'respiratory impairment sonographic and 3tmribased evaluation of the tongue',\n",
              " 'riluzole',\n",
              " 'ros',\n",
              " 'sals',\n",
              " 'seizures',\n",
              " 'shock',\n",
              " 'sod1als',\n",
              " 'spinal muscular atrophy',\n",
              " 'spinal muscular atrophy a sumo4 initiator codon variant',\n",
              " 'tauroursodeoxycholic acid',\n",
              " 'tdp43 aggregation',\n",
              " 'tricals',\n",
              " 'und therapie hypercoagulability',\n",
              " 'verbal working memory',\n",
              " 'visual field disorder amyotrophe lateralsklerose und andere',\n",
              " 'xlinked neurodevelopmental disease',\n",
              " 'вђђrelated als']"
            ]
          },
          "execution_count": 22,
          "metadata": {},
          "output_type": "execute_result"
        }
      ],
      "source": [
        "medical_keywords = process_list(medical_keywords)\n",
        "medical_keywords"
      ]
    },
    {
      "cell_type": "code",
      "execution_count": null,
      "id": "7b172a6c-a80a-4cdb-96a2-cfbdc7890f20",
      "metadata": {
        "id": "7b172a6c-a80a-4cdb-96a2-cfbdc7890f20",
        "outputId": "c95e57fb-0f04-4491-a908-450018349605"
      },
      "outputs": [
        {
          "name": "stdout",
          "output_type": "stream",
          "text": [
            "96\n"
          ]
        }
      ],
      "source": [
        "print(len(medical_keywords))"
      ]
    },
    {
      "cell_type": "code",
      "execution_count": null,
      "id": "7d6cfff2-d836-4f50-9652-c22cae40deb7",
      "metadata": {
        "id": "7d6cfff2-d836-4f50-9652-c22cae40deb7"
      },
      "outputs": [],
      "source": []
    }
  ],
  "metadata": {
    "kernelspec": {
      "display_name": "Python 3 (ipykernel)",
      "language": "python",
      "name": "python3"
    },
    "language_info": {
      "codemirror_mode": {
        "name": "ipython",
        "version": 3
      },
      "file_extension": ".py",
      "mimetype": "text/x-python",
      "name": "python",
      "nbconvert_exporter": "python",
      "pygments_lexer": "ipython3",
      "version": "3.11.7"
    },
    "colab": {
      "provenance": []
    }
  },
  "nbformat": 4,
  "nbformat_minor": 5
}